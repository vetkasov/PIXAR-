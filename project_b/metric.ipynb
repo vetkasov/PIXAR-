{
 "cells": [
  {
   "cell_type": "code",
   "execution_count": 1,
   "id": "b86dcc05-7268-4d39-84e9-a174d85e1620",
   "metadata": {},
   "outputs": [
    {
     "name": "stdout",
     "output_type": "stream",
     "text": [
      "label\n",
      "Достоевский    162\n",
      "Пушкин         141\n",
      "Булгаков       140\n",
      "Толстой        137\n",
      "Гоголь         136\n",
      "Островский     120\n",
      "Чехов          117\n",
      "Тургенев       113\n",
      "Лермонтов       39\n",
      "Name: count, dtype: int64\n"
     ]
    }
   ],
   "source": [
    "from datasets import Dataset\n",
    "import evaluate\n",
    "import pandas as pd\n",
    "import os\n",
    "import glob\n",
    "\n",
    "from sklearn.model_selection import train_test_split\n",
    "from transformers import (\n",
    "    AutoTokenizer,\n",
    "    DataCollatorWithPadding,\n",
    "    AutoModelForSequenceClassification,\n",
    "    TrainingArguments,\n",
    "    Trainer\n",
    ")\n",
    "\n",
    "def load_corpus(root_dir: str, min_length: int = 800, max_length: int = 2000):\n",
    "    records = []\n",
    "    for author_folder in os.listdir(root_dir):\n",
    "        folder_path = os.path.join(root_dir, author_folder)\n",
    "        if not os.path.isdir(folder_path):\n",
    "            continue\n",
    "        for txt_file in glob.glob(os.path.join(folder_path, \"*.txt\")):\n",
    "            with open(txt_file, \"r\", encoding=\"utf-8\") as f:\n",
    "                raw = f.read().strip().replace(\"\\r\\n\", \"\\n\")\n",
    "            if len(raw) < min_length:\n",
    "                continue\n",
    "            start = 0\n",
    "            while start < len(raw):\n",
    "                end = start + max_length\n",
    "                fragment = raw[start:end].strip()\n",
    "                if len(fragment) >= min_length:\n",
    "                    records.append({\n",
    "                        \"text\": fragment,\n",
    "                        \"label\": author_folder\n",
    "                    })\n",
    "                start += (max_length - min_length // 2)\n",
    "    df = pd.DataFrame(records)\n",
    "    return df\n",
    "\n",
    "data_root = \"./data\"\n",
    "df = load_corpus(data_root, min_length=800, max_length=2000)\n",
    "\n",
    "print(df[\"label\"].value_counts())"
   ]
  },
  {
   "cell_type": "code",
   "execution_count": 2,
   "id": "85435dee-fbf2-4247-a43e-2ec3ee9d53ae",
   "metadata": {},
   "outputs": [],
   "source": [
    "import re"
   ]
  },
  {
   "cell_type": "code",
   "execution_count": 3,
   "id": "c96826ff-b304-42ad-b64e-532b86f53735",
   "metadata": {},
   "outputs": [],
   "source": [
    "def regular_cleaning(text):\n",
    "    text = re.sub(r\"^Глава\\s+\\d+.*$\", \"\", text, flags=re.MULTILINE)\n",
    "    text = re.sub(r\"\\[.*?\\]\", \"\", text)  # убираем сноски\n",
    "    text = re.sub(r\"\\s+\", \" \", text)\n",
    "    text = re.sub(r\"\"\"[^a-zA-Zа-яА-Я0-9\\s@=+%&'\"!#?,.:;\\/-]\"\"\", \"\", text, flags=re.IGNORECASE).lower()\n",
    "    # text = re.sub(r\"\"\"[#\\n]\"\"\", \" \", text).lower()\n",
    "    # text = re.sub(r'\\s+', ' ', text).strip()\n",
    "    return text\n",
    "df[\"text\"] = df[\"text\"].apply(regular_cleaning)"
   ]
  },
  {
   "cell_type": "code",
   "execution_count": 4,
   "id": "5ed66bd1-5b51-4120-8641-122258fb3abb",
   "metadata": {},
   "outputs": [
    {
     "name": "stdout",
     "output_type": "stream",
     "text": [
      "Train: (884, 2) Test: (221, 2)\n"
     ]
    }
   ],
   "source": [
    "train_df, test_df = train_test_split(\n",
    "    df, test_size=0.2, random_state=42, stratify=df[\"label\"], shuffle=True\n",
    ")\n",
    "\n",
    "print(\"Train:\", train_df.shape, \"Test:\", test_df.shape)"
   ]
  },
  {
   "cell_type": "code",
   "execution_count": 5,
   "id": "4e2e2579-026a-412d-b2e0-810326382c64",
   "metadata": {},
   "outputs": [],
   "source": [
    "import torch\n",
    "import pandas as pd\n",
    "from transformers import AutoTokenizer, AutoModelForSequenceClassification\n",
    "from torch.utils.data import Dataset, DataLoader\n",
    "from tqdm import tqdm\n",
    "import numpy as np\n",
    "import torch\n",
    "import numpy as np\n",
    "import matplotlib.pyplot as plt\n",
    "from sklearn.metrics import f1_score\n",
    "from transformers import get_linear_schedule_with_warmup\n",
    "from torch.optim.lr_scheduler import ReduceLROnPlateau\n",
    "import copy\n",
    "\n",
    "\n",
    "model_name = 'DeepPavlov/rubert-base-cased'\n",
    "# model_name = \"ai-forever/ruBert-base\"\n",
    "tokenizer = AutoTokenizer.from_pretrained(model_name)"
   ]
  },
  {
   "cell_type": "code",
   "execution_count": 6,
   "id": "28128034-79be-437b-a67d-69563e12686d",
   "metadata": {},
   "outputs": [
    {
     "name": "stdout",
     "output_type": "stream",
     "text": [
      "Using cuda\n"
     ]
    }
   ],
   "source": [
    "device = \"cuda\" if torch.cuda.is_available() else \"cpu\"\n",
    "print(\"Using\", device)"
   ]
  },
  {
   "cell_type": "code",
   "execution_count": 7,
   "id": "3c5b9691-147a-4d35-815e-a5f87369bf5a",
   "metadata": {},
   "outputs": [
    {
     "name": "stderr",
     "output_type": "stream",
     "text": [
      "Some weights of BertForSequenceClassification were not initialized from the model checkpoint at DeepPavlov/rubert-base-cased and are newly initialized: ['classifier.bias', 'classifier.weight']\n",
      "You should probably TRAIN this model on a down-stream task to be able to use it for predictions and inference.\n"
     ]
    }
   ],
   "source": [
    "model_BERT = AutoModelForSequenceClassification.from_pretrained(\n",
    "    model_name, \n",
    "    num_labels=9,\n",
    "    problem_type=\"multi_label_classification\"\n",
    ").to(device)"
   ]
  },
  {
   "cell_type": "code",
   "execution_count": 8,
   "id": "640d36c4-cb45-4b33-a80f-ccf2212cc042",
   "metadata": {},
   "outputs": [],
   "source": [
    "unique_labels = sorted(train_df[\"label\"].unique().tolist())\n",
    "num_labels = len(unique_labels)\n",
    "\n",
    "label2id = {lab: idx for idx, lab in enumerate(unique_labels)}\n",
    "id2label = {idx: lab for lab, idx in label2id.items()}"
   ]
  },
  {
   "cell_type": "code",
   "execution_count": 9,
   "id": "e62dde59-bccc-4239-810e-3fc7aa929752",
   "metadata": {},
   "outputs": [],
   "source": [
    "class AuthorsDataset(Dataset):\n",
    "    def __init__(self, df, tokenizer, label2id, max_length=512):\n",
    "        \"\"\"\n",
    "        df: pandas.DataFrame с колонками \"text\" и \"label\"\n",
    "        tokenizer: AutoTokenizer\n",
    "        label2id: dict {строка_фамилии: int_идекс}\n",
    "        max_length: максимальная длина токенов\n",
    "        \"\"\"\n",
    "        self.texts = df[\"text\"].tolist()\n",
    "        self.labels = df[\"label\"].tolist()\n",
    "        self.tokenizer = tokenizer\n",
    "        self.label2id = label2id\n",
    "        self.max_length = max_length\n",
    "        self.num_labels = len(label2id)\n",
    "    \n",
    "    def __len__(self):\n",
    "        return len(self.texts)\n",
    "    \n",
    "    def __getitem__(self, idx):\n",
    "        text = str(self.texts[idx])\n",
    "        lab = self.labels[idx]\n",
    "        encoding = self.tokenizer(\n",
    "            text, \n",
    "            add_special_tokens=True,\n",
    "            padding=\"max_length\",\n",
    "            truncation=True,\n",
    "            max_length=self.max_length,\n",
    "            return_attention_mask=True,\n",
    "            return_tensors=\"pt\"\n",
    "        )\n",
    "        label_vector = np.zeros(self.num_labels, dtype=float)\n",
    "        label_index = self.label2id[lab]\n",
    "        label_vector[label_index] = 1.0\n",
    "        \n",
    "        return {\n",
    "            \"input_ids\": encoding[\"input_ids\"].squeeze(0),\n",
    "            \"attention_mask\": encoding[\"attention_mask\"].squeeze(0),\n",
    "            \"labels\": torch.tensor(label_vector, dtype=torch.float)\n",
    "        }\n",
    "train_dataset = AuthorsDataset(train_df, tokenizer, label2id, max_length=512)\n",
    "val_dataset   = AuthorsDataset(test_df,   tokenizer, label2id, max_length=512)\n",
    "\n",
    "batch_size = 32\n",
    "\n",
    "train_loader = DataLoader(\n",
    "    train_dataset,\n",
    "    batch_size=batch_size,\n",
    "    shuffle=True,\n",
    "    num_workers=2,\n",
    "    pin_memory=True\n",
    ")\n",
    "\n",
    "val_loader = DataLoader(\n",
    "    val_dataset,\n",
    "    batch_size=batch_size,\n",
    "    shuffle=False,\n",
    "    num_workers=2,\n",
    "    pin_memory=True\n",
    ")"
   ]
  },
  {
   "cell_type": "code",
   "execution_count": 10,
   "id": "20a8ffab-18b9-46f4-ab7d-96dbc0306135",
   "metadata": {},
   "outputs": [
    {
     "name": "stdout",
     "output_type": "stream",
     "text": [
      "\n",
      "Epoch 1/5\n"
     ]
    },
    {
     "name": "stderr",
     "output_type": "stream",
     "text": [
      "Training: 100%|██████████| 28/28 [00:16<00:00,  1.65it/s]\n",
      "Validation: 100%|██████████| 7/7 [00:01<00:00,  4.95it/s]\n"
     ]
    },
    {
     "name": "stdout",
     "output_type": "stream",
     "text": [
      "Train Loss: 0.5316 | Val Loss: 0.3735\n",
      "Train F1: 0.0621 | Val F1: 0.0000\n",
      "Learning Rate: 1.78e-05\n",
      "\n",
      "Epoch 2/5\n"
     ]
    },
    {
     "name": "stderr",
     "output_type": "stream",
     "text": [
      "Training: 100%|██████████| 28/28 [00:16<00:00,  1.66it/s]\n",
      "Validation: 100%|██████████| 7/7 [00:01<00:00,  4.87it/s]\n"
     ]
    },
    {
     "name": "stdout",
     "output_type": "stream",
     "text": [
      "Train Loss: 0.3517 | Val Loss: 0.3286\n",
      "Train F1: 0.0000 | Val F1: 0.0000\n",
      "Learning Rate: 1.33e-05\n",
      "\n",
      "Epoch 3/5\n"
     ]
    },
    {
     "name": "stderr",
     "output_type": "stream",
     "text": [
      "Training: 100%|██████████| 28/28 [00:16<00:00,  1.65it/s]\n",
      "Validation: 100%|██████████| 7/7 [00:01<00:00,  4.86it/s]\n"
     ]
    },
    {
     "name": "stdout",
     "output_type": "stream",
     "text": [
      "New best model saved with F1: 0.1041\n",
      "Train Loss: 0.3207 | Val Loss: 0.3026\n",
      "Train F1: 0.0475 | Val F1: 0.1041\n",
      "Learning Rate: 8.89e-06\n",
      "\n",
      "Epoch 4/5\n"
     ]
    },
    {
     "name": "stderr",
     "output_type": "stream",
     "text": [
      "Training: 100%|██████████| 28/28 [00:17<00:00,  1.65it/s]\n",
      "Validation: 100%|██████████| 7/7 [00:01<00:00,  4.87it/s]\n"
     ]
    },
    {
     "name": "stdout",
     "output_type": "stream",
     "text": [
      "New best model saved with F1: 0.1403\n",
      "Train Loss: 0.2956 | Val Loss: 0.2808\n",
      "Train F1: 0.0905 | Val F1: 0.1403\n",
      "Learning Rate: 4.44e-06\n",
      "\n",
      "Epoch 5/5\n"
     ]
    },
    {
     "name": "stderr",
     "output_type": "stream",
     "text": [
      "Training: 100%|██████████| 28/28 [00:17<00:00,  1.65it/s]\n",
      "Validation: 100%|██████████| 7/7 [00:01<00:00,  4.92it/s]\n"
     ]
    },
    {
     "name": "stdout",
     "output_type": "stream",
     "text": [
      "New best model saved with F1: 0.1493\n",
      "Train Loss: 0.2771 | Val Loss: 0.2696\n",
      "Train F1: 0.1414 | Val F1: 0.1493\n",
      "Learning Rate: 0.00e+00\n"
     ]
    },
    {
     "data": {
      "image/png": "[encoded data removed]",
      "text/plain": [
       "<Figure size 1500x500 with 3 Axes>"
      ]
     },
     "metadata": {},
     "output_type": "display_data"
    }
   ],
   "source": [
    "class EarlyStopping:\n",
    "    def __init__(self, patience=5, delta=0, metric='f1'):\n",
    "        self.patience = patience\n",
    "        self.delta = delta\n",
    "        self.metric = metric\n",
    "        self.counter = 0\n",
    "        self.best_score = None\n",
    "        self.early_stop = False\n",
    "\n",
    "    def __call__(self, current_score):\n",
    "        if self.best_score is None:\n",
    "            self.best_score = current_score\n",
    "        elif current_score < self.best_score + self.delta:\n",
    "            self.counter += 1\n",
    "            if self.counter >= self.patience:\n",
    "                self.early_stop = True\n",
    "        else:\n",
    "            self.best_score = current_score\n",
    "            self.counter = 0\n",
    "\n",
    "def calculate_metrics(outputs, labels, threshold=0.5):\n",
    "    probs = torch.sigmoid(outputs)\n",
    "    preds = (probs > threshold).float()\n",
    "    \n",
    "    # Sample-based F1 score\n",
    "    f1 = f1_score(labels.cpu().numpy(), \n",
    "                 preds.cpu().numpy(), \n",
    "                 average='samples', \n",
    "                 zero_division=0)\n",
    "    return f1\n",
    "\n",
    "def train_epoch(model, dataloader, optimizer, scheduler_warmup=None):\n",
    "    model.train()\n",
    "    total_loss = 0.0\n",
    "    total_f1 = 0.0\n",
    "    \n",
    "    for batch in tqdm(dataloader, desc=\"Training\"):\n",
    "        optimizer.zero_grad()\n",
    "        \n",
    "        input_ids = batch['input_ids'].to(device)\n",
    "        attention_mask = batch['attention_mask'].to(device)\n",
    "        labels = batch['labels'].to(device)\n",
    "        \n",
    "        outputs = model(\n",
    "            input_ids=input_ids,\n",
    "            attention_mask=attention_mask,\n",
    "            labels=labels\n",
    "        )\n",
    "        \n",
    "        loss = outputs.loss\n",
    "        loss.backward()\n",
    "        torch.nn.utils.clip_grad_norm_(model.parameters(), 1.0)\n",
    "        optimizer.step()\n",
    "        \n",
    "        if scheduler_warmup:\n",
    "            scheduler_warmup.step()\n",
    "        \n",
    "        total_loss += loss.item()\n",
    "        f1 = calculate_metrics(outputs.logits, labels)\n",
    "        total_f1 += f1 * input_ids.size(0)\n",
    "    \n",
    "    return {\n",
    "        'loss': total_loss / len(dataloader),\n",
    "        'f1': total_f1 / len(dataloader.dataset)\n",
    "    }\n",
    "\n",
    "def validate_epoch(model, dataloader):\n",
    "    model.eval()\n",
    "    total_loss = 0.0\n",
    "    total_f1 = 0.0\n",
    "    \n",
    "    with torch.no_grad():\n",
    "        for batch in tqdm(dataloader, desc=\"Validation\"):\n",
    "            input_ids = batch['input_ids'].to(device)\n",
    "            attention_mask = batch['attention_mask'].to(device)\n",
    "            labels = batch['labels'].to(device)\n",
    "            \n",
    "            outputs = model(\n",
    "                input_ids=input_ids,\n",
    "                attention_mask=attention_mask,\n",
    "                labels=labels\n",
    "            )\n",
    "            \n",
    "            loss = outputs.loss\n",
    "            total_loss += loss.item()\n",
    "            f1 = calculate_metrics(outputs.logits, labels)\n",
    "            total_f1 += f1 * input_ids.size(0)\n",
    "    \n",
    "    return {\n",
    "        'loss': total_loss / len(dataloader),\n",
    "        'f1': total_f1 / len(dataloader.dataset)\n",
    "    }\n",
    "\n",
    "optimizer = torch.optim.AdamW(model_BERT.parameters(), lr=2e-5, weight_decay=0.01)\n",
    "total_steps = len(train_loader) * 5\n",
    "scheduler_warmup = get_linear_schedule_with_warmup(\n",
    "    optimizer,\n",
    "    num_warmup_steps=total_steps//10,\n",
    "    num_training_steps=total_steps\n",
    ")\n",
    "scheduler_plateau = ReduceLROnPlateau(optimizer, 'max', patience=2, factor=0.5)\n",
    "\n",
    "early_stopping = EarlyStopping(patience=5, delta=0.001, metric='f1')\n",
    "\n",
    "history = {\n",
    "    'train_loss': [],\n",
    "    'val_loss': [],\n",
    "    'train_f1': [],\n",
    "    'val_f1': [],\n",
    "    'lr': []\n",
    "}\n",
    "\n",
    "best_f1 = 0.0\n",
    "best_model = None\n",
    "\n",
    "for epoch in range(5):\n",
    "    print(f\"\\nEpoch {epoch + 1}/5\")\n",
    "    \n",
    "    train_metrics = train_epoch(model_BERT, train_loader, optimizer, scheduler_warmup)\n",
    "    \n",
    "    val_metrics = validate_epoch(model_BERT, val_loader)\n",
    "    \n",
    "    history['train_loss'].append(train_metrics['loss'])\n",
    "    history['val_loss'].append(val_metrics['loss'])\n",
    "    history['train_f1'].append(train_metrics['f1'])\n",
    "    history['val_f1'].append(val_metrics['f1'])\n",
    "    history['lr'].append(optimizer.param_groups[0]['lr'])\n",
    "    \n",
    "    scheduler_plateau.step(val_metrics['f1'])\n",
    "    \n",
    "    if val_metrics['f1'] > best_f1:\n",
    "        best_f1 = val_metrics['f1']\n",
    "        best_model = copy.deepcopy(model_BERT.state_dict())\n",
    "        torch.save(best_model, 'best_bert_model.pth')\n",
    "        print(f\"New best model saved with F1: {best_f1:.4f}\")\n",
    "    \n",
    "    early_stopping(val_metrics['f1'])\n",
    "    if early_stopping.early_stop:\n",
    "        print(\"Early stopping triggered!\")\n",
    "        break\n",
    "    \n",
    "    print(f\"Train Loss: {train_metrics['loss']:.4f} | Val Loss: {val_metrics['loss']:.4f}\")\n",
    "    print(f\"Train F1: {train_metrics['f1']:.4f} | Val F1: {val_metrics['f1']:.4f}\")\n",
    "    print(f\"Learning Rate: {history['lr'][-1]:.2e}\")\n",
    "\n",
    "model_BERT.load_state_dict(torch.load('best_bert_model.pth'))\n",
    "plt.figure(figsize=(15,5))\n",
    "plt.subplot(131)\n",
    "plt.plot(history['train_loss'], label='Train')\n",
    "plt.plot(history['val_loss'], label='Validation')\n",
    "plt.title('Loss Curve')\n",
    "plt.xlabel('Epoch')\n",
    "plt.ylabel('Loss')\n",
    "plt.legend()\n",
    "\n",
    "plt.subplot(132)\n",
    "plt.plot(history['train_f1'], label='Train')\n",
    "plt.plot(history['val_f1'], label='Validation')\n",
    "plt.title('F1 Score')\n",
    "plt.xlabel('Epoch')\n",
    "plt.ylabel('F1')\n",
    "plt.legend()\n",
    "\n",
    "plt.subplot(133)\n",
    "plt.plot(history['lr'], label='Learning Rate')\n",
    "plt.title('Learning Rate Schedule')\n",
    "plt.xlabel('Step')\n",
    "plt.ylabel('LR')\n",
    "plt.yscale('log')\n",
    "plt.legend()\n",
    "\n",
    "plt.tight_layout()\n",
    "plt.show()"
   ]
  },
  {
   "cell_type": "code",
   "execution_count": 14,
   "id": "fd44a56d-88ce-448b-bdab-fd463f3780a5",
   "metadata": {},
   "outputs": [
    {
     "name": "stdout",
     "output_type": "stream",
     "text": [
      "Вероятности: {'Булгаков': 0.24182091653347015, 'Гоголь': 0.26145607233047485, 'Достоевский': 0.25731661915779114, 'Лермонтов': 0.1917535960674286, 'Островский': 0.29839059710502625, 'Пушкин': 0.22072932124137878, 'Толстой': 0.23105573654174805, 'Тургенев': 0.2572425603866577, 'Чехов': 0.2323167324066162}\n"
     ]
    }
   ],
   "source": [
    "model_BERT.eval()\n",
    "example_text = \"\"\"Пихарь\"\"\"\n",
    "encoding = tokenizer(\n",
    "    example_text,\n",
    "    padding=\"max_length\",\n",
    "    truncation=True,\n",
    "    max_length=512,\n",
    "    return_tensors=\"pt\"\n",
    ").to(device)\n",
    "\n",
    "with torch.no_grad():\n",
    "    outputs = model_BERT(\n",
    "        input_ids=encoding[\"input_ids\"],\n",
    "        attention_mask=encoding[\"attention_mask\"]\n",
    "    )\n",
    "    logits = outputs.logits\n",
    "    probs = torch.sigmoid(logits).cpu().numpy()[0]\n",
    "\n",
    "threshold = 0.1\n",
    "pred_indices = np.where(probs > threshold)[0].tolist()\n",
    "predicted_labels = [id2label[idx] for idx in pred_indices]\n",
    "# print(\"Предсказанные фамилии (prob > 0.5):\", predicted_labels)\n",
    "print(\"Вероятности:\", {id2label[i]: float(probs[i]) for i in pred_indices})"
   ]
  },
  {
   "cell_type": "code",
   "execution_count": null,
   "id": "d9e5bc68-2cc8-4c9a-a3e2-9ed77c884b4b",
   "metadata": {},
   "outputs": [],
   "source": []
  }
 ],
 "metadata": {
  "kernelspec": {
   "display_name": "Python 3 (ipykernel)",
   "language": "python",
   "name": "python3"
  },
  "language_info": {
   "codemirror_mode": {
    "name": "ipython",
    "version": 3
   },
   "file_extension": ".py",
   "mimetype": "text/x-python",
   "name": "python",
   "nbconvert_exporter": "python",
   "pygments_lexer": "ipython3",
   "version": "3.11.12"
  }
 },
 "nbformat": 4,
 "nbformat_minor": 5
}
